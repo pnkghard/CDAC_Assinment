{
 "cells": [
  {
   "cell_type": "markdown",
   "id": "990ef9ab",
   "metadata": {},
   "source": [
    "# Import sqlite3 module.\n",
    "    Use the connect() method.\n",
    "    Use the cursor() method.\n",
    "    Use the execute() method.\n",
    "    Extract result using fetchall()\n",
    "    Extract result one only using fetchone()\n",
    "    importcx_Oracale\n",
    "    con=cx_oracle.connect(system//r00t123@127.0.1/XE)\n",
    "    cursor=con.cursor();\n",
    "    for mysql:%s\n",
    "    for sqlite3 ?\n",
    "    for oracle :variable"
   ]
  },
  {
   "cell_type": "code",
   "execution_count": 61,
   "id": "91615d15",
   "metadata": {},
   "outputs": [],
   "source": [
    "def displayall():\n",
    "    cursor.execute(\"select * from employee\");\n",
    "    print(\"{:<4}   {:<20}   {:<10}\".format(\"----\", \"--------------------\", \"----------\"))\n",
    "    print(\"{:<4}   {:<20}   {:<10}\".format(\"ID\", \"Name\", \"Salary\"))\n",
    "    print(\"{:<4}   {:<20}   {:<10}\".format(\"----\", \"--------------------\", \"----------\"))\n",
    "    for row in cursor.fetchall():\n",
    "        print(\"{:<4}   {:<20}   {:<10}\".format(row[0], row[1], row[2]))\n",
    "    print(\"{:<4}   {:<20}   {:<10}\".format(\"----\", \"--------------------\", \"----------\"))        "
   ]
  },
  {
   "cell_type": "code",
   "execution_count": 62,
   "id": "e719b85b",
   "metadata": {},
   "outputs": [],
   "source": [
    "def addemployee():\n",
    "    ename = input(\"Enter Name of Employee : \")\n",
    "    empid = int(abs(hash(ename)%10**4))\n",
    "    sal = float(input(\"Enter employee salary : \"))\n",
    "    cursor.execute(\"insert into employee values(?,?,?)\",(empid, ename, sal))\n",
    "    con.commit();\n",
    "    print(\"Employee ID is : \", empid)\n",
    "    print(\"Employee detail added successfully...\")"
   ]
  },
  {
   "cell_type": "code",
   "execution_count": 63,
   "id": "e1f70262",
   "metadata": {},
   "outputs": [],
   "source": [
    "def deleteemp(empid):\n",
    "    cursor.execute(\"delete from employee where empid=?\",(empid,))\n",
    "    con.commit();\n",
    "    print(\"Employee detail deleted successfully...\")"
   ]
  },
  {
   "cell_type": "code",
   "execution_count": 64,
   "id": "a15fa369",
   "metadata": {},
   "outputs": [],
   "source": [
    "def updateemp(empid, ename, sal):\n",
    "    cursor.execute(\"update employee set ename=?, sal=? where empid=?;\",(ename, sal, empid))\n",
    "    con.commit(); \n",
    "    print(\"Employee detail updated successfully...\")"
   ]
  },
  {
   "cell_type": "code",
   "execution_count": 65,
   "id": "77e5ea34",
   "metadata": {},
   "outputs": [],
   "source": [
    "def displayid(empid):\n",
    "    print(\"{:<4}   {:<20}   {:<10}\".format(\"----\", \"--------------------\", \"----------\"))\n",
    "    print(\"{:<4}   {:<20}   {:<10}\".format(\"ID\", \"Name\", \"Salary\"))\n",
    "    print(\"{:<4}   {:<20}   {:<10}\".format(\"----\", \"--------------------\", \"----------\"))\n",
    "    cursor.execute(\"select * from employee where empid=?;\",(empid,))\n",
    "    row = cursor.fetchone();\n",
    "    print(\"{:<4}   {:<20}   {:<10}\".format(row[0], row[1], row[2]))\n",
    "    print(\"{:<4}   {:<20}   {:<10}\".format(\"----\", \"--------------------\", \"----------\"))"
   ]
  },
  {
   "cell_type": "code",
   "execution_count": 66,
   "id": "761fb0af",
   "metadata": {},
   "outputs": [],
   "source": [
    "import sqlite3"
   ]
  },
  {
   "cell_type": "code",
   "execution_count": null,
   "id": "8abd047a",
   "metadata": {},
   "outputs": [],
   "source": []
  },
  {
   "cell_type": "code",
   "execution_count": 67,
   "id": "4349b59e",
   "metadata": {},
   "outputs": [],
   "source": [
    "con=sqlite3.connect(\"/home/pankaj/Public/sqlite3/mydb.db\")"
   ]
  },
  {
   "cell_type": "code",
   "execution_count": 68,
   "id": "aad2b8a5",
   "metadata": {},
   "outputs": [
    {
     "name": "stdout",
     "output_type": "stream",
     "text": [
      "----   --------------------   ----------\n",
      "ID     Name                   Salary    \n",
      "----   --------------------   ----------\n",
      "5723   Prasad Powar           20000.0   \n",
      "8246   Awishkar Gaikwad       30000.0   \n",
      "5754   Krishna                40000.0   \n",
      "5860   Pankaj Gharde          10000.0   \n",
      "----   --------------------   ----------\n"
     ]
    }
   ],
   "source": [
    "cursor=con.cursor();\n",
    "displayall()"
   ]
  },
  {
   "cell_type": "code",
   "execution_count": 70,
   "id": "8ee9e2fa",
   "metadata": {},
   "outputs": [
    {
     "name": "stdout",
     "output_type": "stream",
     "text": [
      "\n",
      "                        1. add new employee\n",
      "                        2. delete employee\n",
      "                        3. update employee details\n",
      "                        4. display all employee\n",
      "                        5. display employee by id\n",
      "                        6. exit\n",
      "                    \n",
      "                    \n",
      "                Enter your choice : 1\n",
      "Enter Name of Employee : Aditya Nagose\n",
      "Enter employee salary : 60000\n",
      "Employee ID is :  8767\n",
      "Employee detail added successfully...\n",
      "\n",
      "                        1. add new employee\n",
      "                        2. delete employee\n",
      "                        3. update employee details\n",
      "                        4. display all employee\n",
      "                        5. display employee by id\n",
      "                        6. exit\n",
      "                    \n",
      "                    \n",
      "                Enter your choice : 4\n",
      "----   --------------------   ----------\n",
      "ID     Name                   Salary    \n",
      "----   --------------------   ----------\n",
      "5723   Prasad Powar           20000.0   \n",
      "8246   Awishkar Gaikwad       30000.0   \n",
      "5754   Krishna                40000.0   \n",
      "5860   Pankaj Gharde          10000.0   \n",
      "8767   Aditya Nagose          60000.0   \n",
      "----   --------------------   ----------\n",
      "\n",
      "                        1. add new employee\n",
      "                        2. delete employee\n",
      "                        3. update employee details\n",
      "                        4. display all employee\n",
      "                        5. display employee by id\n",
      "                        6. exit\n",
      "                    \n",
      "                    \n",
      "                Enter your choice : 6\n",
      "Logout successfully.......\n"
     ]
    }
   ],
   "source": [
    "ch = 0\n",
    "while ch!=6:\n",
    "    ch = int(input(\"\"\"\n",
    "                        1. add new employee\n",
    "                        2. delete employee\n",
    "                        3. update employee details\n",
    "                        4. display all employee\n",
    "                        5. display employee by id\n",
    "                        6. exit\n",
    "                    \n",
    "                    \n",
    "                Enter your choice : \"\"\"))\n",
    "    if ch==1:\n",
    "        addemployee()\n",
    "    elif ch==2:\n",
    "        deleteemp(int(input(\"Enter employee ID : \")))\n",
    "    elif ch==3:\n",
    "        updateemp(int(input(\"Enter employee ID : \")), input(\"Enter employee Name : \"), float(input(\"Enter employee salary : \")))\n",
    "    elif ch==4:\n",
    "        displayall()\n",
    "    elif ch==5:\n",
    "        displayid(int(input(\"\"\"\n",
    "                Enter employee ID : \n",
    "                            \"\"\")))\n",
    "    else:\n",
    "        print(\"Logout successfully.......\")"
   ]
  },
  {
   "cell_type": "code",
   "execution_count": null,
   "id": "15d38840",
   "metadata": {},
   "outputs": [],
   "source": []
  },
  {
   "cell_type": "code",
   "execution_count": null,
   "id": "4af2363c",
   "metadata": {},
   "outputs": [],
   "source": []
  }
 ],
 "metadata": {
  "kernelspec": {
   "display_name": "Python 3 (ipykernel)",
   "language": "python",
   "name": "python3"
  },
  "language_info": {
   "codemirror_mode": {
    "name": "ipython",
    "version": 3
   },
   "file_extension": ".py",
   "mimetype": "text/x-python",
   "name": "python",
   "nbconvert_exporter": "python",
   "pygments_lexer": "ipython3",
   "version": "3.9.13"
  }
 },
 "nbformat": 4,
 "nbformat_minor": 5
}
