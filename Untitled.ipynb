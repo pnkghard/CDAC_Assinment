{
 "cells": [
  {
   "cell_type": "code",
   "execution_count": 1,
   "id": "60fd942d",
   "metadata": {},
   "outputs": [
    {
     "name": "stdout",
     "output_type": "stream",
     "text": [
      "-35698\n"
     ]
    }
   ],
   "source": [
    "i = int(input())"
   ]
  },
  {
   "cell_type": "code",
   "execution_count": 2,
   "id": "30bb9aba",
   "metadata": {},
   "outputs": [
    {
     "name": "stdout",
     "output_type": "stream",
     "text": [
      "-35698\n"
     ]
    }
   ],
   "source": [
    "print(i)"
   ]
  },
  {
   "cell_type": "code",
   "execution_count": 3,
   "id": "28bd1783",
   "metadata": {},
   "outputs": [
    {
     "data": {
      "text/plain": [
       "35698"
      ]
     },
     "execution_count": 3,
     "metadata": {},
     "output_type": "execute_result"
    }
   ],
   "source": [
    "abs(i)"
   ]
  },
  {
   "cell_type": "code",
   "execution_count": 4,
   "id": "d6382eb5",
   "metadata": {},
   "outputs": [
    {
     "name": "stdout",
     "output_type": "stream",
     "text": [
      "-3957814231917255028\n"
     ]
    }
   ],
   "source": [
    "print(hash(\"Pankaj\"))"
   ]
  },
  {
   "cell_type": "code",
   "execution_count": 6,
   "id": "8d949387",
   "metadata": {},
   "outputs": [
    {
     "name": "stdout",
     "output_type": "stream",
     "text": [
      "4972\n"
     ]
    }
   ],
   "source": [
    "print(hash(\"Pankaj\")%(10**4))"
   ]
  },
  {
   "cell_type": "code",
   "execution_count": null,
   "id": "384f590c",
   "metadata": {},
   "outputs": [],
   "source": []
  }
 ],
 "metadata": {
  "kernelspec": {
   "display_name": "Python 3 (ipykernel)",
   "language": "python",
   "name": "python3"
  },
  "language_info": {
   "codemirror_mode": {
    "name": "ipython",
    "version": 3
   },
   "file_extension": ".py",
   "mimetype": "text/x-python",
   "name": "python",
   "nbconvert_exporter": "python",
   "pygments_lexer": "ipython3",
   "version": "3.10.6"
  }
 },
 "nbformat": 4,
 "nbformat_minor": 5
}
